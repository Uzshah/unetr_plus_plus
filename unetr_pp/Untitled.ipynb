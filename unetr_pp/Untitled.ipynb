{
 "cells": [
  {
   "cell_type": "code",
   "execution_count": null,
   "id": "d3c45137-fb85-408d-989b-e8e6428b453c",
   "metadata": {},
   "outputs": [],
   "source": [
    "from network_architecture.synapse.unetr_pp_synapse import UNETR_PP\n",
    "\n",
    "\n",
    "model = UNETR_PP(in_channels=self.input_channels,\n",
    "                             out_channels=14,\n",
    "                             img_size=[64, 128, 128],\n",
    "                             feature_size=16,\n",
    "                             num_heads=4,\n",
    "                             depths=[3, 3, 3, 3],\n",
    "                             dims=[32, 64, 128, 256],\n",
    "                             do_ds=True,\n",
    "                             )"
   ]
  }
 ],
 "metadata": {
  "kernelspec": {
   "display_name": "Python 3 (ipykernel)",
   "language": "python",
   "name": "python3"
  },
  "language_info": {
   "codemirror_mode": {
    "name": "ipython",
    "version": 3
   },
   "file_extension": ".py",
   "mimetype": "text/x-python",
   "name": "python",
   "nbconvert_exporter": "python",
   "pygments_lexer": "ipython3",
   "version": "3.9.0"
  }
 },
 "nbformat": 4,
 "nbformat_minor": 5
}
